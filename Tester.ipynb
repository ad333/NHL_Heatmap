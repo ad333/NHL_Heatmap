{
 "cells": [
  {
   "cell_type": "code",
   "execution_count": 1,
   "metadata": {},
   "outputs": [],
   "source": [
    "# import dependencies\n",
    "import requests as req\n",
    "import json\n",
    "import pymongo"
   ]
  },
  {
   "cell_type": "code",
   "execution_count": 2,
   "metadata": {},
   "outputs": [],
   "source": [
    "# get JSON from API\n",
    "# TODO: choose a different game\n",
    "data = req.get('https://statsapi.web.nhl.com/api/v1/game/2017030224/feed/live').json()"
   ]
  },
  {
   "cell_type": "code",
   "execution_count": 3,
   "metadata": {},
   "outputs": [],
   "source": [
    "# grab all plays from game\n",
    "plays = data['liveData']['plays']['allPlays']"
   ]
  },
  {
   "cell_type": "code",
   "execution_count": 4,
   "metadata": {},
   "outputs": [],
   "source": [
    "# get player names involved in play\n",
    "for play in plays:\n",
    "    event = play['result']['event']\n",
    "    \n",
    "    if event == 'Shot':\n",
    "        team = play['team']['name']\n",
    "    elif event == 'Goal':\n",
    "        team = play['team']['name']\n",
    "    elif event == 'Hit':\n",
    "        team = play['team']['name']"
   ]
  },
  {
   "cell_type": "code",
   "execution_count": 5,
   "metadata": {},
   "outputs": [],
   "source": [
    "# create lists to sort into\n",
    "shots = []\n",
    "goals = []\n",
    "hits = []"
   ]
  },
  {
   "cell_type": "code",
   "execution_count": 6,
   "metadata": {},
   "outputs": [],
   "source": [
    "# sort events into lists\n",
    "for play in plays:\n",
    "    \n",
    "    event = play['result']['event']\n",
    "    \n",
    "    if event == 'Shot':\n",
    "        d = {\n",
    "        'event' : '',\n",
    "        'shooter' : '',\n",
    "            'team' : '',\n",
    "        'goalie' : '',\n",
    "        'x' : '',\n",
    "        'y' : ''\n",
    "            }\n",
    "        shooter = play['players'][0]['player']['fullName']\n",
    "        team = play['team']['name']\n",
    "        goalie = play['players'][1]['player']['fullName']\n",
    "        x = play['coordinates']['x']\n",
    "        y = play['coordinates']['y']\n",
    "        d['event'] = event\n",
    "        d['shooter'] = shooter\n",
    "        d['team'] = team\n",
    "        d['goalie'] = goalie\n",
    "        d['x'] = x\n",
    "        d['y'] = y\n",
    "    elif event == 'Goal':\n",
    "        d = {\n",
    "        'event' : '',\n",
    "        'shooter' : '',\n",
    "            'team' : '',\n",
    "        'goalie' : '',\n",
    "        'x' : '',\n",
    "        'y' : ''\n",
    "                    }\n",
    "        for player in play['players']:  \n",
    "            if player['playerType'] == 'Scorer':      \n",
    "                shooter = player['player']['fullName']\n",
    "            elif player['playerType'] == 'Goalie':\n",
    "                goalie = player['player']['fullName']\n",
    "        team = play['team']['name']\n",
    "        x = play['coordinates']['x']\n",
    "        y = play['coordinates']['y']\n",
    "        d['event'] = event\n",
    "        d['shooter'] = shooter\n",
    "        d['team'] = team\n",
    "        d['goalie'] = goalie\n",
    "        d['x'] = x\n",
    "        d['y'] = y\n",
    "    elif event == 'Hit':\n",
    "        d = {\n",
    "        'event' : '',\n",
    "        'hitter' : '',\n",
    "        'x' : '',\n",
    "        'y' : ''\n",
    "        }\n",
    "        hitter = play['players'][0]['player']['fullName']\n",
    "        team = play['team']['name']\n",
    "        x = play['coordinates']['x']\n",
    "        y = play['coordinates']['y']\n",
    "        d['event'] = event\n",
    "        d['hitter'] = hitter\n",
    "        d['team'] = team\n",
    "        d['x'] = x\n",
    "        d['y'] = y\n",
    "    \n",
    "    \n",
    "    if event == 'Shot':\n",
    "        shots.append(d)\n",
    "    elif event == 'Goal':\n",
    "        goals.append(d)\n",
    "    elif event == 'Hit':\n",
    "        hits.append(d)"
   ]
  },
  {
   "cell_type": "code",
   "execution_count": 7,
   "metadata": {},
   "outputs": [
    {
     "data": {
      "text/plain": [
       "[{'event': 'Goal',\n",
       "  'shooter': 'Jake Guentzel',\n",
       "  'team': 'Pittsburgh Penguins',\n",
       "  'goalie': 'Braden Holtby',\n",
       "  'x': -82.0,\n",
       "  'y': 8.0},\n",
       " {'event': 'Goal',\n",
       "  'shooter': 'T.J. Oshie',\n",
       "  'team': 'Washington Capitals',\n",
       "  'goalie': 'Matt Murray',\n",
       "  'x': 66.0,\n",
       "  'y': 0.0},\n",
       " {'event': 'Goal',\n",
       "  'shooter': 'Evgeni Malkin',\n",
       "  'team': 'Pittsburgh Penguins',\n",
       "  'goalie': 'Braden Holtby',\n",
       "  'x': -75.0,\n",
       "  'y': 10.0},\n",
       " {'event': 'Goal',\n",
       "  'shooter': 'Jake Guentzel',\n",
       "  'team': 'Pittsburgh Penguins',\n",
       "  'goalie': 'Braden Holtby',\n",
       "  'x': 51.0,\n",
       "  'y': 20.0}]"
      ]
     },
     "execution_count": 7,
     "metadata": {},
     "output_type": "execute_result"
    }
   ],
   "source": [
    "goals"
   ]
  },
  {
   "cell_type": "code",
   "execution_count": 8,
   "metadata": {},
   "outputs": [],
   "source": [
    "# connect to db\n",
    "conn = 'mongodb://localhost:27017'\n",
    "client = pymongo.MongoClient(conn)"
   ]
  },
  {
   "cell_type": "code",
   "execution_count": 9,
   "metadata": {},
   "outputs": [],
   "source": [
    "db = client.nhlDB"
   ]
  },
  {
   "cell_type": "code",
   "execution_count": 10,
   "metadata": {},
   "outputs": [
    {
     "data": {
      "text/plain": [
       "<pymongo.results.InsertManyResult at 0x102abf4c8>"
      ]
     },
     "execution_count": 10,
     "metadata": {},
     "output_type": "execute_result"
    }
   ],
   "source": [
    "# add shot coordinates to db\n",
    "# TODO: add more info (player, team, period, etc.)\n",
    "db.shots.insert_many(shots)"
   ]
  },
  {
   "cell_type": "code",
   "execution_count": 11,
   "metadata": {},
   "outputs": [
    {
     "data": {
      "text/plain": [
       "<pymongo.results.InsertManyResult at 0x103421748>"
      ]
     },
     "execution_count": 11,
     "metadata": {},
     "output_type": "execute_result"
    }
   ],
   "source": [
    "# add goal coordinates to db\n",
    "# TODO: add more info (player, team, period, etc.)\n",
    "db.goals.insert_many(goals)"
   ]
  },
  {
   "cell_type": "code",
   "execution_count": 12,
   "metadata": {},
   "outputs": [
    {
     "data": {
      "text/plain": [
       "<pymongo.results.InsertManyResult at 0x103421548>"
      ]
     },
     "execution_count": 12,
     "metadata": {},
     "output_type": "execute_result"
    }
   ],
   "source": [
    "# add hit coordinates to db\n",
    "# TODO: add more info (player, team, period, etc.)\n",
    "db.hits.insert_many(hits)"
   ]
  },
  {
   "cell_type": "code",
   "execution_count": 13,
   "metadata": {},
   "outputs": [],
   "source": [
    "db_shots = []"
   ]
  },
  {
   "cell_type": "code",
   "execution_count": 14,
   "metadata": {},
   "outputs": [
    {
     "name": "stdout",
     "output_type": "stream",
     "text": [
      "Brian Dumoulin\n",
      "Dominik Simon\n",
      "Justin Schultz\n",
      "Brooks Orpik\n",
      "Evgeny Kuznetsov\n",
      "Christian Djoos\n",
      "Kris Letang\n",
      "Evgeny Kuznetsov\n",
      "Shane Gersich\n",
      "Jake Guentzel\n",
      "Jake Guentzel\n",
      "Bryan Rust\n",
      "Kris Letang\n",
      "Conor Sheary\n",
      "Evgeny Kuznetsov\n",
      "Alex Chiasson\n",
      "Dmitry Orlov\n",
      "Tom Kuhnhackl\n",
      "Patric Hornqvist\n",
      "Tom Kuhnhackl\n",
      "Nicklas Backstrom\n",
      "Brooks Orpik\n",
      "Patric Hornqvist\n",
      "Nicklas Backstrom\n",
      "Dmitry Orlov\n",
      "Evgeny Kuznetsov\n",
      "John Carlson\n",
      "John Carlson\n",
      "Evgeny Kuznetsov\n",
      "Brett Connolly\n",
      "Phil Kessel\n",
      "Patric Hornqvist\n",
      "Matt Niskanen\n",
      "Jake Guentzel\n",
      "Jake Guentzel\n",
      "Kris Letang\n",
      "Lars Eller\n",
      "Dmitry Orlov\n",
      "Carl Hagelin\n",
      "Jake Guentzel\n",
      "Carl Hagelin\n",
      "Brian Dumoulin\n",
      "Dominik Simon\n",
      "Justin Schultz\n",
      "Brooks Orpik\n",
      "Evgeny Kuznetsov\n",
      "Christian Djoos\n",
      "Kris Letang\n",
      "Evgeny Kuznetsov\n",
      "Shane Gersich\n",
      "Jake Guentzel\n",
      "Jake Guentzel\n",
      "Bryan Rust\n",
      "Kris Letang\n",
      "Conor Sheary\n",
      "Evgeny Kuznetsov\n",
      "Alex Chiasson\n",
      "Dmitry Orlov\n",
      "Tom Kuhnhackl\n",
      "Patric Hornqvist\n",
      "Tom Kuhnhackl\n",
      "Nicklas Backstrom\n",
      "Brooks Orpik\n",
      "Patric Hornqvist\n",
      "Nicklas Backstrom\n",
      "Dmitry Orlov\n",
      "Evgeny Kuznetsov\n",
      "John Carlson\n",
      "John Carlson\n",
      "Evgeny Kuznetsov\n",
      "Brett Connolly\n",
      "Phil Kessel\n",
      "Patric Hornqvist\n",
      "Matt Niskanen\n",
      "Jake Guentzel\n",
      "Jake Guentzel\n",
      "Kris Letang\n",
      "Lars Eller\n",
      "Dmitry Orlov\n",
      "Carl Hagelin\n",
      "Jake Guentzel\n",
      "Carl Hagelin\n",
      "Brian Dumoulin\n",
      "Dominik Simon\n",
      "Justin Schultz\n",
      "Brooks Orpik\n",
      "Evgeny Kuznetsov\n",
      "Christian Djoos\n",
      "Kris Letang\n",
      "Evgeny Kuznetsov\n",
      "Shane Gersich\n",
      "Jake Guentzel\n",
      "Jake Guentzel\n",
      "Bryan Rust\n",
      "Kris Letang\n",
      "Conor Sheary\n",
      "Evgeny Kuznetsov\n",
      "Alex Chiasson\n",
      "Dmitry Orlov\n",
      "Tom Kuhnhackl\n",
      "Patric Hornqvist\n",
      "Tom Kuhnhackl\n",
      "Nicklas Backstrom\n",
      "Brooks Orpik\n",
      "Patric Hornqvist\n",
      "Nicklas Backstrom\n",
      "Dmitry Orlov\n",
      "Evgeny Kuznetsov\n",
      "John Carlson\n",
      "John Carlson\n",
      "Evgeny Kuznetsov\n",
      "Brett Connolly\n",
      "Phil Kessel\n",
      "Patric Hornqvist\n",
      "Matt Niskanen\n",
      "Jake Guentzel\n",
      "Jake Guentzel\n",
      "Kris Letang\n",
      "Lars Eller\n",
      "Dmitry Orlov\n",
      "Carl Hagelin\n",
      "Jake Guentzel\n",
      "Carl Hagelin\n"
     ]
    }
   ],
   "source": [
    "shots = db.shots.find()\n",
    "d = {\n",
    "    ''\n",
    "}\n",
    "for shot in shots:\n",
    "    print(shot['shooter'])"
   ]
  },
  {
   "cell_type": "code",
   "execution_count": null,
   "metadata": {},
   "outputs": [],
   "source": []
  }
 ],
 "metadata": {
  "kernelspec": {
   "display_name": "Python 3",
   "language": "python",
   "name": "python3"
  },
  "language_info": {
   "codemirror_mode": {
    "name": "ipython",
    "version": 3
   },
   "file_extension": ".py",
   "mimetype": "text/x-python",
   "name": "python",
   "nbconvert_exporter": "python",
   "pygments_lexer": "ipython3",
   "version": "3.6.5"
  }
 },
 "nbformat": 4,
 "nbformat_minor": 2
}
