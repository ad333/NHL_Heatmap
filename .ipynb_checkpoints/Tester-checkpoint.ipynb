{
 "cells": [
  {
   "cell_type": "code",
   "execution_count": 1,
   "metadata": {},
   "outputs": [],
   "source": [
    "# import dependencies\n",
    "import requests as req\n",
    "import json\n",
    "import pymongo"
   ]
  },
  {
   "cell_type": "code",
   "execution_count": 6,
   "metadata": {},
   "outputs": [],
   "source": [
    "# get JSON from API\n",
    "# TODO: choose a different game\n",
    "data = req.get('https://statsapi.web.nhl.com/api/v1/game/2017030224/feed/live').json()"
   ]
  },
  {
   "cell_type": "code",
   "execution_count": 7,
   "metadata": {},
   "outputs": [],
   "source": [
    "# grab all plays from game\n",
    "plays = data['liveData']['plays']['allPlays']"
   ]
  },
  {
   "cell_type": "code",
   "execution_count": 46,
   "metadata": {},
   "outputs": [
    {
     "name": "stdout",
     "output_type": "stream",
     "text": [
      "Nathan Beaulieu\n",
      "Brendan Gallagher\n",
      "Alex Galchenyuk\n",
      "Ryan Miller\n",
      "Torrey Mitchell\n",
      "Phillip Danault\n",
      "Brian Flynn\n",
      "Ryan Miller\n",
      "Alexander Radulov\n",
      "Alex Galchenyuk\n",
      "Brendan Gallagher\n"
     ]
    }
   ],
   "source": [
    "# get player names involved in play\n",
    "for play in plays:\n",
    "    event = play['result']['event']\n",
    "    \n",
    "    if event == 'Shot':\n",
    "        shooter = play['players'][0]['player']['fullName']\n",
    "        goalie = play['players'][1]['player']['fullName']\n",
    "    elif event == 'Goal':\n",
    "        for player in play['players']:  \n",
    "            print(player['player']['fullName'])\n",
    "        shooter = play['players'][0]['player']['fullName']\n",
    "        goalie = play['players'][1]['player']['fullName']\n",
    "    elif event == 'Hit':\n",
    "        hitter = play['players'][0]['player']['fullName']"
   ]
  },
  {
   "cell_type": "code",
   "execution_count": 47,
   "metadata": {},
   "outputs": [],
   "source": [
    "# create lists to sort into\n",
    "shots = []\n",
    "goals = []\n",
    "hits = []"
   ]
  },
  {
   "cell_type": "code",
   "execution_count": 48,
   "metadata": {},
   "outputs": [],
   "source": [
    "# sort events into lists\n",
    "for play in plays:\n",
    "    \n",
    "    event = play['result']['event']\n",
    "    \n",
    "    if event == 'Shot':\n",
    "        d = {\n",
    "        'event' : '',\n",
    "        'shooter' : '',\n",
    "        'goalie' : '',\n",
    "        'x' : '',\n",
    "        'y' : ''\n",
    "            }\n",
    "        shooter = play['players'][0]['player']['fullName']\n",
    "        goalie = play['players'][1]['player']['fullName']\n",
    "        x = play['coordinates']['x']\n",
    "        y = play['coordinates']['y']\n",
    "        d['event'] = event\n",
    "        d['shooter'] = shooter\n",
    "        d['goalie'] = goalie\n",
    "        d['x'] = x\n",
    "        d['y'] = y\n",
    "    elif event == 'Goal':\n",
    "        d = {\n",
    "        'event' : '',\n",
    "        'shooter' : '',\n",
    "        'goalie' : '',\n",
    "        'x' : '',\n",
    "        'y' : ''\n",
    "                    }\n",
    "        for player in play['players']:  \n",
    "            if player['playerType'] == 'Scorer':      \n",
    "                shooter = player['player']['fullName']\n",
    "            elif player['playerType'] == 'Goalie':\n",
    "                goalie = player['player']['fullName']\n",
    "        x = play['coordinates']['x']\n",
    "        y = play['coordinates']['y']\n",
    "        d['event'] = event\n",
    "        d['shooter'] = shooter\n",
    "        d['goalie'] = goalie\n",
    "        d['x'] = x\n",
    "        d['y'] = y\n",
    "    elif event == 'Hit':\n",
    "        d = {\n",
    "        'event' : '',\n",
    "        'hitter' : '',\n",
    "        'x' : '',\n",
    "        'y' : ''\n",
    "        }\n",
    "        hitter = play['players'][0]['player']['fullName']\n",
    "        x = play['coordinates']['x']\n",
    "        y = play['coordinates']['y']\n",
    "        d['event'] = event\n",
    "        d['hitter'] = hitter\n",
    "        d['x'] = x\n",
    "        d['y'] = y\n",
    "    \n",
    "    \n",
    "    if event == 'Shot':\n",
    "        shots.append(d)\n",
    "    elif event == 'Goal':\n",
    "        goals.append(d)\n",
    "    elif event == 'Hit':\n",
    "        hits.append(d)"
   ]
  },
  {
   "cell_type": "code",
   "execution_count": 49,
   "metadata": {},
   "outputs": [
    {
     "data": {
      "text/plain": [
       "[{'event': 'Goal',\n",
       "  'shooter': 'Nathan Beaulieu',\n",
       "  'goalie': 'Ryan Miller',\n",
       "  'x': 82.0,\n",
       "  'y': 0.0},\n",
       " {'event': 'Goal',\n",
       "  'shooter': 'Torrey Mitchell',\n",
       "  'goalie': 'Ryan Miller',\n",
       "  'x': 79.0,\n",
       "  'y': -4.0},\n",
       " {'event': 'Goal',\n",
       "  'shooter': 'Alexander Radulov',\n",
       "  'goalie': 'Carey Price',\n",
       "  'x': -77.0,\n",
       "  'y': 3.0}]"
      ]
     },
     "execution_count": 49,
     "metadata": {},
     "output_type": "execute_result"
    }
   ],
   "source": [
    "goals"
   ]
  },
  {
   "cell_type": "code",
   "execution_count": 50,
   "metadata": {},
   "outputs": [],
   "source": [
    "# connect to db\n",
    "conn = 'mongodb://localhost:27017'\n",
    "client = pymongo.MongoClient(conn)"
   ]
  },
  {
   "cell_type": "code",
   "execution_count": 51,
   "metadata": {},
   "outputs": [],
   "source": [
    "db = client.nhlDB"
   ]
  },
  {
   "cell_type": "code",
   "execution_count": 52,
   "metadata": {},
   "outputs": [
    {
     "data": {
      "text/plain": [
       "<pymongo.results.InsertManyResult at 0x10979fa88>"
      ]
     },
     "execution_count": 52,
     "metadata": {},
     "output_type": "execute_result"
    }
   ],
   "source": [
    "# add shot coordinates to db\n",
    "# TODO: add more info (player, team, period, etc.)\n",
    "db.shots.insert_many(shots)"
   ]
  },
  {
   "cell_type": "code",
   "execution_count": 53,
   "metadata": {},
   "outputs": [
    {
     "data": {
      "text/plain": [
       "<pymongo.results.InsertManyResult at 0x10a279548>"
      ]
     },
     "execution_count": 53,
     "metadata": {},
     "output_type": "execute_result"
    }
   ],
   "source": [
    "# add goal coordinates to db\n",
    "# TODO: add more info (player, team, period, etc.)\n",
    "db.goals.insert_many(goals)"
   ]
  },
  {
   "cell_type": "code",
   "execution_count": 54,
   "metadata": {},
   "outputs": [
    {
     "data": {
      "text/plain": [
       "<pymongo.results.InsertManyResult at 0x10a316d88>"
      ]
     },
     "execution_count": 54,
     "metadata": {},
     "output_type": "execute_result"
    }
   ],
   "source": [
    "# add hit coordinates to db\n",
    "# TODO: add more info (player, team, period, etc.)\n",
    "db.hits.insert_many(hits)"
   ]
  },
  {
   "cell_type": "code",
   "execution_count": null,
   "metadata": {},
   "outputs": [],
   "source": []
  }
 ],
 "metadata": {
  "kernelspec": {
   "display_name": "Python 3",
   "language": "python",
   "name": "python3"
  },
  "language_info": {
   "codemirror_mode": {
    "name": "ipython",
    "version": 3
   },
   "file_extension": ".py",
   "mimetype": "text/x-python",
   "name": "python",
   "nbconvert_exporter": "python",
   "pygments_lexer": "ipython3",
   "version": "3.6.5"
  }
 },
 "nbformat": 4,
 "nbformat_minor": 2
}
