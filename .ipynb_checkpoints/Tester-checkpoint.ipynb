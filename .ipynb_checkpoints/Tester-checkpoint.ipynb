{
 "cells": [
  {
   "cell_type": "code",
   "execution_count": 1,
   "metadata": {},
   "outputs": [],
   "source": [
    "# import dependencies\n",
    "import requests as req\n",
    "import json\n",
    "import pymongo"
   ]
  },
  {
   "cell_type": "code",
   "execution_count": 6,
   "metadata": {},
   "outputs": [],
   "source": [
    "# get JSON from API\n",
    "# TODO: choose a different game\n",
    "data = req.get('https://statsapi.web.nhl.com/api/v1/game/2016020143/feed/live').json()"
   ]
  },
  {
   "cell_type": "code",
   "execution_count": 7,
   "metadata": {},
   "outputs": [],
   "source": [
    "# grab all plays from game\n",
    "plays = data['liveData']['plays']['allPlays']"
   ]
  },
  {
   "cell_type": "code",
   "execution_count": 8,
   "metadata": {},
   "outputs": [],
   "source": [
    "# create lists to sort into\n",
    "shots = []\n",
    "goals = []\n",
    "hits = []"
   ]
  },
  {
   "cell_type": "code",
   "execution_count": 9,
   "metadata": {},
   "outputs": [],
   "source": [
    "# sort events into lists\n",
    "for play in plays:\n",
    "    d = {\n",
    "        'event' : '',\n",
    "        'x' : '',\n",
    "        'y' : ''\n",
    "    }\n",
    "    event = play['result']['event']\n",
    "    try:\n",
    "        x = play['coordinates']['x']\n",
    "        y = play['coordinates']['y']\n",
    "    except:\n",
    "        x = 'NA'\n",
    "        y = 'NA'\n",
    "    \n",
    "    d['event'] = event\n",
    "    d['x'] = x\n",
    "    d['y'] = y\n",
    "    \n",
    "    if event == 'Shot':\n",
    "        shots.append(d)\n",
    "    elif event == 'Goal':\n",
    "        goals.append(d)\n",
    "    elif event == 'Hit':\n",
    "        hits.append(d)"
   ]
  },
  {
   "cell_type": "code",
   "execution_count": 14,
   "metadata": {},
   "outputs": [],
   "source": [
    "# connect to db\n",
    "conn = 'mongodb://localhost:27017'\n",
    "client = pymongo.MongoClient(conn)"
   ]
  },
  {
   "cell_type": "code",
   "execution_count": 15,
   "metadata": {},
   "outputs": [],
   "source": [
    "db = client.nhlDB"
   ]
  },
  {
   "cell_type": "code",
   "execution_count": 16,
   "metadata": {},
   "outputs": [
    {
     "data": {
      "text/plain": [
       "<pymongo.results.InsertManyResult at 0x10a2f5208>"
      ]
     },
     "execution_count": 16,
     "metadata": {},
     "output_type": "execute_result"
    }
   ],
   "source": [
    "# add shot coordinates to db\n",
    "# TODO: add more info (player, team, period, etc.)\n",
    "db.shots.insert_many(shots)"
   ]
  },
  {
   "cell_type": "code",
   "execution_count": 17,
   "metadata": {},
   "outputs": [
    {
     "data": {
      "text/plain": [
       "<pymongo.results.InsertManyResult at 0x1098d2148>"
      ]
     },
     "execution_count": 17,
     "metadata": {},
     "output_type": "execute_result"
    }
   ],
   "source": [
    "# add goal coordinates to db\n",
    "# TODO: add more info (player, team, period, etc.)\n",
    "db.goals.insert_many(goals)"
   ]
  },
  {
   "cell_type": "code",
   "execution_count": 18,
   "metadata": {},
   "outputs": [
    {
     "data": {
      "text/plain": [
       "<pymongo.results.InsertManyResult at 0x108dbe4c8>"
      ]
     },
     "execution_count": 18,
     "metadata": {},
     "output_type": "execute_result"
    }
   ],
   "source": [
    "# add hit coordinates to db\n",
    "# TODO: add more info (player, team, period, etc.)\n",
    "db.hits.insert_many(hits)"
   ]
  },
  {
   "cell_type": "code",
   "execution_count": null,
   "metadata": {},
   "outputs": [],
   "source": []
  }
 ],
 "metadata": {
  "kernelspec": {
   "display_name": "Python 3",
   "language": "python",
   "name": "python3"
  },
  "language_info": {
   "codemirror_mode": {
    "name": "ipython",
    "version": 3
   },
   "file_extension": ".py",
   "mimetype": "text/x-python",
   "name": "python",
   "nbconvert_exporter": "python",
   "pygments_lexer": "ipython3",
   "version": "3.6.5"
  }
 },
 "nbformat": 4,
 "nbformat_minor": 2
}
