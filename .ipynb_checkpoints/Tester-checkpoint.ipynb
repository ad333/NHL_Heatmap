{
 "cells": [
  {
   "cell_type": "code",
   "execution_count": 2,
   "metadata": {},
   "outputs": [],
   "source": [
    "# import dependencies\n",
    "import requests as req\n",
    "import json"
   ]
  },
  {
   "cell_type": "code",
   "execution_count": 6,
   "metadata": {},
   "outputs": [],
   "source": [
    "# get JSON from API\n",
    "# TODO: choose a different game\n",
    "data = req.get('https://statsapi.web.nhl.com/api/v1/game/2016020143/feed/live').json()"
   ]
  },
  {
   "cell_type": "code",
   "execution_count": 12,
   "metadata": {},
   "outputs": [],
   "source": [
    "# grab all plays from game\n",
    "plays = data['liveData']['plays']['allPlays']"
   ]
  },
  {
   "cell_type": "code",
   "execution_count": 15,
   "metadata": {},
   "outputs": [],
   "source": [
    "# create lists to sort into\n",
    "shots = []\n",
    "goals = []\n",
    "hits = []"
   ]
  },
  {
   "cell_type": "code",
   "execution_count": 22,
   "metadata": {},
   "outputs": [],
   "source": [
    "# sort events into lists\n",
    "for play in plays:\n",
    "    d = {\n",
    "        'event' : '',\n",
    "        'x' : '',\n",
    "        'y' : ''\n",
    "    }\n",
    "    event = play['result']['event']\n",
    "    try:\n",
    "        x = play['coordinates']['x']\n",
    "        y = play['coordinates']['y']\n",
    "    except:\n",
    "        x = 'NA'\n",
    "        y = 'NA'\n",
    "    \n",
    "    d['event'] = event\n",
    "    d['x'] = x\n",
    "    d['y'] = y\n",
    "    \n",
    "    if event == 'Shot':\n",
    "        shots.append(d)\n",
    "    elif event == 'Goal':\n",
    "        goals.append(d)\n",
    "    elif event == 'Hit':\n",
    "        hits.append(d)"
   ]
  },
  {
   "cell_type": "code",
   "execution_count": null,
   "metadata": {},
   "outputs": [],
   "source": []
  }
 ],
 "metadata": {
  "kernelspec": {
   "display_name": "Python 3",
   "language": "python",
   "name": "python3"
  },
  "language_info": {
   "codemirror_mode": {
    "name": "ipython",
    "version": 3
   },
   "file_extension": ".py",
   "mimetype": "text/x-python",
   "name": "python",
   "nbconvert_exporter": "python",
   "pygments_lexer": "ipython3",
   "version": "3.6.5"
  }
 },
 "nbformat": 4,
 "nbformat_minor": 2
}
